{
 "cells": [
  {
   "cell_type": "code",
   "execution_count": 1,
   "id": "e55cdeff-f95a-4937-829f-705e640c9c76",
   "metadata": {},
   "outputs": [
    {
     "name": "stdout",
     "output_type": "stream",
     "text": [
      "(i) add 200 and 300:  [10, 20, 30, 40, 50, 60, 70, 80, 200, 300]\n",
      "(ii) remove 10 and 30:  [20, 40, 50, 60, 70, 80, 200, 300]\n",
      "(iii) Sort List:  [20, 40, 50, 60, 70, 80, 200, 300]\n",
      "(iv) Sorted in reverse order:  [300, 200, 80, 70, 60, 50, 40, 20]\n"
     ]
    }
   ],
   "source": [
    "L = [10,20,30,40,50,60,70,80]\n",
    "L.append(200)\n",
    "L.append(300)\n",
    "print(\"(i) add 200 and 300: \", L)\n",
    "L.remove(10)\n",
    "L.remove(30)\n",
    "print(\"(ii) remove 10 and 30: \",L)\n",
    "L.sort()\n",
    "print(\"(iii) Sort List: \",L)\n",
    "L.sort(reverse = True)\n",
    "print(\"(iv) Sorted in reverse order: \",L)"
   ]
  },
  {
   "cell_type": "code",
   "execution_count": 6,
   "id": "d3a84afb-5d59-42cc-8709-d0bd85b909ed",
   "metadata": {},
   "outputs": [
    {
     "name": "stdout",
     "output_type": "stream",
     "text": [
      "Maximum element in tuple:  92\n",
      "Position of maximum element:  5\n",
      "Minimum element in tuple:  45\n",
      "Count of the minimum element:  2\n",
      "[45, 58, 92, 89, 45.4, 76, 89.5, 45]\n"
     ]
    },
    {
     "name": "stdin",
     "output_type": "stream",
     "text": [
      "Enter a number:  76\n"
     ]
    },
    {
     "name": "stdout",
     "output_type": "stream",
     "text": [
      "76 is present at index. 2\n"
     ]
    }
   ],
   "source": [
    "Scores = (45,89.5,76,45.4,89,92,58,45)\n",
    "max = Scores[0]\n",
    "pos = 0\n",
    "for score in range(len(Scores)):\n",
    "    if Scores[score] > max:\n",
    "        max = Scores[score]\n",
    "        pos = score\n",
    "print(\"Maximum element in tuple: \",max)\n",
    "print(\"Position of maximum element: \",pos)\n",
    "mini = min(Scores)\n",
    "print(\"Minimum element in tuple: \",mini)\n",
    "count = Scores.count(mini)\n",
    "print(\"Count of the minimum element: \",count)\n",
    "\n",
    "scores_list=list(Scores)\n",
    "scores_list.reverse()\n",
    "print(scores_list)\n",
    "\n",
    "ni = -1\n",
    "num = int(input(\"Enter a number: \"))\n",
    "for i in range (len(Scores)):\n",
    "  if Scores[i]==num:\n",
    "    ni=i\n",
    "    break\n",
    "print(num,\"is present at index.\",ni)"
   ]
  },
  {
   "cell_type": "code",
   "execution_count": 7,
   "id": "25b5fb2c-ff93-4b01-a65a-2374150ba03d",
   "metadata": {},
   "outputs": [
    {
     "name": "stdout",
     "output_type": "stream",
     "text": [
      "Total Odd Numbers: [259, 283, 755, 311, 487, 115, 873, 251, 425, 707, 563, 867, 115, 663, 639, 455, 205, 165, 821, 129, 829, 281, 197, 153, 813, 835, 395, 531, 827, 563, 247, 449, 475, 321, 595, 119, 595, 169, 649, 643, 149, 741, 315, 211, 303, 197, 867, 129, 767, 131]\n",
      "Total number of Odd Numbers: 50\n",
      "Total Even Numbers: [348, 416, 148, 820, 148, 202, 252, 628, 858, 710, 488, 834, 878, 410, 848, 344, 572, 142, 354, 670, 710, 490, 446, 762, 348, 226, 182, 616, 644, 836, 408, 410, 816, 748, 612, 756, 374, 694, 828, 166, 454, 330, 208, 322, 178, 498, 220, 256, 112, 334]\n",
      "Total number of Even Numbers: 50\n",
      "Total Prime Numbers: [283, 311, 487, 251, 563, 821, 829, 281, 197, 827, 563, 449, 643, 149, 211, 197, 131]\n",
      "Total number of Prime Numbers: 17\n"
     ]
    }
   ],
   "source": [
    "import random\n",
    "\n",
    "numbers = []\n",
    "for _ in range(100):\n",
    "    numbers.append(random.randint(100, 900))\n",
    "\n",
    "odd_numbers = []\n",
    "for num in numbers:\n",
    "    if num % 2 != 0:\n",
    "        odd_numbers.append(num)\n",
    "print(\"Total Odd Numbers:\", odd_numbers)\n",
    "print(\"Total number of Odd Numbers:\", len(odd_numbers))\n",
    "\n",
    "\n",
    "even_numbers = []\n",
    "for num in numbers:\n",
    "    if num % 2 == 0:\n",
    "        even_numbers.append(num)\n",
    "print(\"Total Even Numbers:\", even_numbers)\n",
    "print(\"Total number of Even Numbers:\", len(even_numbers))\n",
    "\n",
    "prime_numbers = []\n",
    "for num in numbers:\n",
    "    is_prime = True\n",
    "    if num > 1:\n",
    "        for i in range(2, num):\n",
    "            if num % i == 0:\n",
    "                is_prime = False\n",
    "                break\n",
    "    else:\n",
    "        is_prime = False\n",
    "    if is_prime:\n",
    "        prime_numbers.append(num)\n",
    "print(\"Total Prime Numbers:\", prime_numbers)\n",
    "print(\"Total number of Prime Numbers:\", len(prime_numbers))\n"
   ]
  },
  {
   "cell_type": "code",
   "execution_count": 8,
   "id": "9fcaa92e-46d1-49c5-9075-e3553974b7a6",
   "metadata": {},
   "outputs": [
    {
     "name": "stdout",
     "output_type": "stream",
     "text": [
      "{34, 45, 78, 23, 56, 90}\n",
      "{90, 78}\n",
      "{34, 45, 23, 56}\n",
      "Team A is not subset of team B\n",
      "Team B is not superset of team A\n"
     ]
    }
   ],
   "source": [
    "A = {34, 56, 78, 90}\n",
    "B = {78, 45, 90, 23}\n",
    "union = A.union(B)\n",
    "print(union)\n",
    "\n",
    "inter = A.intersection(B)\n",
    "print(inter)\n",
    "\n",
    "symmetricdiff = A.symmetric_difference(B)\n",
    "print(symmetricdiff)\n",
    "\n",
    "if (A.issubset(B)):\n",
    "  print(\"Team A is subset of team B\")\n",
    "else:\n",
    "  print(\"Team A is not subset of team B\")\n",
    "\n",
    "\n",
    "if(B.issuperset(A)):\n",
    "    print(\"Team B is superset of team A\")\n",
    "else:\n",
    "     print(\"Team B is not superset of team A\")"
   ]
  },
  {
   "cell_type": "code",
   "execution_count": 9,
   "id": "35f7da59-859d-49e3-8a0b-8dfd255f594e",
   "metadata": {},
   "outputs": [
    {
     "name": "stdout",
     "output_type": "stream",
     "text": [
      "{'name': 'Kelly', 'age': 25, 'salary': 8000, 'location': 'New York'}\n"
     ]
    }
   ],
   "source": [
    "sample_dict={\"name\":\"Kelly\",\n",
    "             \"age\":25,\n",
    "             \"salary\":8000,\n",
    "             \"city\":\"New York\"}\n",
    "\n",
    "sample_dict['location'] = sample_dict.pop('city')\n",
    "print(sample_dict)"
   ]
  },
  {
   "cell_type": "code",
   "execution_count": null,
   "id": "9b3d482d-0784-4210-83ca-feb83b9a3a24",
   "metadata": {},
   "outputs": [],
   "source": []
  }
 ],
 "metadata": {
  "kernelspec": {
   "display_name": "Python 3 (ipykernel)",
   "language": "python",
   "name": "python3"
  },
  "language_info": {
   "codemirror_mode": {
    "name": "ipython",
    "version": 3
   },
   "file_extension": ".py",
   "mimetype": "text/x-python",
   "name": "python",
   "nbconvert_exporter": "python",
   "pygments_lexer": "ipython3",
   "version": "3.13.1"
  }
 },
 "nbformat": 4,
 "nbformat_minor": 5
}

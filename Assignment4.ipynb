{
 "cells": [
  {
   "cell_type": "code",
   "execution_count": 14,
   "id": "3d0dc5cf-5080-421b-9a30-9e753beda9b3",
   "metadata": {},
   "outputs": [
    {
     "name": "stdout",
     "output_type": "stream",
     "text": [
      "Table of 7\n",
      "7 * 1 = 7\n",
      "7 * 2 = 14\n",
      "7 * 3 = 21\n",
      "7 * 4 = 28\n",
      "7 * 5 = 35\n",
      "7 * 6 = 42\n",
      "7 * 7 = 49\n",
      "7 * 8 = 56\n",
      "7 * 9 = 63\n",
      "7 * 10 = 70\n",
      "\n",
      "Table of 9\n",
      "9 * 1 = 9\n",
      "9 * 2 = 18\n",
      "9 * 3 = 27\n",
      "9 * 4 = 36\n",
      "9 * 5 = 45\n",
      "9 * 6 = 54\n",
      "9 * 7 = 63\n",
      "9 * 8 = 72\n",
      "9 * 9 = 81\n",
      "9 * 10 = 90\n"
     ]
    }
   ],
   "source": [
    "print('Table of 7')\n",
    "for i in range(1,11):\n",
    "    print('7 * '+ str(i) +' = '+ str(i * 7))\n",
    "print()\n",
    "print('Table of 9')\n",
    "for i in range(1,11):\n",
    "    print('9 * '+ str(i) +' = '+ str(i * 9))"
   ]
  },
  {
   "cell_type": "code",
   "execution_count": 15,
   "id": "4b6683b2-2af3-40e5-9060-4a1ac76da70f",
   "metadata": {},
   "outputs": [
    {
     "name": "stdin",
     "output_type": "stream",
     "text": [
      "Enter the number of which you want table:  5\n"
     ]
    },
    {
     "name": "stdout",
     "output_type": "stream",
     "text": [
      "5 * 1 = 5\n",
      "5 * 2 = 10\n",
      "5 * 3 = 15\n",
      "5 * 4 = 20\n",
      "5 * 5 = 25\n",
      "5 * 6 = 30\n",
      "5 * 7 = 35\n",
      "5 * 8 = 40\n",
      "5 * 9 = 45\n",
      "5 * 10 = 50\n"
     ]
    }
   ],
   "source": [
    "n = int(input('Enter the number of which you want table: '))\n",
    "for i in range(1,11):\n",
    "    print(str(n) +' * '+ str(i) +' = '+ str(i * n))"
   ]
  },
  {
   "cell_type": "code",
   "execution_count": null,
   "id": "d00d9d9a-51fa-4a38-ab4f-ce0ea597e7fa",
   "metadata": {},
   "outputs": [],
   "source": [
    "n = int(input('Enter the number of which you want table: '))"
   ]
  }
 ],
 "metadata": {
  "kernelspec": {
   "display_name": "Python 3 (ipykernel)",
   "language": "python",
   "name": "python3"
  },
  "language_info": {
   "codemirror_mode": {
    "name": "ipython",
    "version": 3
   },
   "file_extension": ".py",
   "mimetype": "text/x-python",
   "name": "python",
   "nbconvert_exporter": "python",
   "pygments_lexer": "ipython3",
   "version": "3.11.7"
  }
 },
 "nbformat": 4,
 "nbformat_minor": 5
}
